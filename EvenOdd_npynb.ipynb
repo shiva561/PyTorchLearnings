{
  "nbformat": 4,
  "nbformat_minor": 0,
  "metadata": {
    "colab": {
      "provenance": [],
      "authorship_tag": "ABX9TyO/qXQfpd6g2/i4lYiDGiyP",
      "include_colab_link": true
    },
    "kernelspec": {
      "name": "python3",
      "display_name": "Python 3"
    },
    "language_info": {
      "name": "python"
    }
  },
  "cells": [
    {
      "cell_type": "markdown",
      "metadata": {
        "id": "view-in-github",
        "colab_type": "text"
      },
      "source": [
        "<a href=\"https://colab.research.google.com/github/shiva561/PyTorchLearnings/blob/main/EvenOdd_npynb.ipynb\" target=\"_parent\"><img src=\"https://colab.research.google.com/assets/colab-badge.svg\" alt=\"Open In Colab\"/></a>"
      ]
    },
    {
      "cell_type": "code",
      "execution_count": 1,
      "metadata": {
        "id": "mnF5kzXQcndT"
      },
      "outputs": [],
      "source": [
        "# Step 1: Import Required Libraries\n",
        "import torch\n",
        "import torch.nn as nn\n",
        "import torch.nn.functional as F\n",
        "import numpy as np\n"
      ]
    },
    {
      "cell_type": "code",
      "source": [
        "# Step 2: Create Input and Output Data (0 to 100)\n",
        "\n",
        "# Input numbers (reshaped and normalized to range [0, 1])\n",
        "X = torch.tensor([[i] for i in range(101)], dtype=torch.float32) / 100.0  # shape = (101, 1)\n",
        "\n",
        "# Labels: 0 for even, 1 for odd\n",
        "y = torch.tensor([[i % 2] for i in range(101)], dtype=torch.float32)  # shape = (101, 1)\n"
      ],
      "metadata": {
        "id": "SfgAInXidpns"
      },
      "execution_count": 2,
      "outputs": []
    },
    {
      "cell_type": "code",
      "source": [
        "# Step 3: Define the Neural Network Model\n",
        "class EvenOddNet(nn.Module):\n",
        "    def __init__(self):\n",
        "        super(EvenOddNet, self).__init__()\n",
        "\n",
        "        # 1 input → 8 neurons in hidden layer\n",
        "        self.fc1 = nn.Linear(1, 8)\n",
        "        # Hidden → 1 output neuron\n",
        "        self.fc2 = nn.Linear(8, 1)\n",
        "\n",
        "    def forward(self, x):\n",
        "        x = F.relu(self.fc1(x))          # ReLU activation\n",
        "        x = torch.sigmoid(self.fc2(x))   # Sigmoid for binary output\n",
        "        return x\n"
      ],
      "metadata": {
        "id": "1OdQfptkfRgh"
      },
      "execution_count": 3,
      "outputs": []
    },
    {
      "cell_type": "code",
      "source": [
        "# Step 4: Initialize Model, Loss Function, and Optimizer\n",
        "model = EvenOddNet()\n",
        "criterion = nn.BCELoss()  # Binary Cross Entropy Loss\n",
        "optimizer = torch.optim.SGD(model.parameters(), lr=0.1)\n"
      ],
      "metadata": {
        "id": "rwrakqvefZu6"
      },
      "execution_count": 4,
      "outputs": []
    },
    {
      "cell_type": "code",
      "source": [
        "# Step 5: Train the Model\n",
        "for epoch in range(200):\n",
        "    model.train()\n",
        "    optimizer.zero_grad()\n",
        "\n",
        "    output = model(X)             # Forward pass\n",
        "    loss = criterion(output, y)   # Compute loss\n",
        "    loss.backward()               # Backpropagation\n",
        "    optimizer.step()              # Update weights\n",
        "\n",
        "    if epoch % 40 == 0:\n",
        "        print(f\"Epoch {epoch} — Loss: {loss.item():.4f}\")\n"
      ],
      "metadata": {
        "colab": {
          "base_uri": "https://localhost:8080/"
        },
        "id": "RK9YsgzJff1V",
        "outputId": "afeb6244-149b-48fd-9e75-7f6994afa43a"
      },
      "execution_count": 5,
      "outputs": [
        {
          "output_type": "stream",
          "name": "stdout",
          "text": [
            "Epoch 0 — Loss: 0.6939\n",
            "Epoch 40 — Loss: 0.6935\n",
            "Epoch 80 — Loss: 0.6935\n",
            "Epoch 120 — Loss: 0.6934\n",
            "Epoch 160 — Loss: 0.6934\n"
          ]
        }
      ]
    },
    {
      "cell_type": "code",
      "source": [
        "# Step 6: Test the Model\n",
        "model.eval()\n",
        "\n",
        "with torch.no_grad():\n",
        "    predictions = model(X).round()  # Round to 0 or 1\n",
        "    print(\"\\nPredicted even (0) or odd (1):\")\n",
        "    print(predictions.squeeze())  # Remove extra dimension\n",
        "\n",
        "    # Bonus: Compare actual vs predicted\n",
        "    correct = (predictions == y).sum().item()\n",
        "    print(f\"\\nAccuracy: {correct}/101 = {correct/101*100:.2f}%\")\n"
      ],
      "metadata": {
        "colab": {
          "base_uri": "https://localhost:8080/"
        },
        "id": "hkk_hES8fm7X",
        "outputId": "387d1188-5172-40b2-f704-eb245d11ae8e"
      },
      "execution_count": 6,
      "outputs": [
        {
          "output_type": "stream",
          "name": "stdout",
          "text": [
            "\n",
            "Predicted even (0) or odd (1):\n",
            "tensor([1., 1., 1., 1., 1., 1., 1., 1., 1., 1., 1., 1., 1., 1., 1., 1., 1., 1.,\n",
            "        1., 1., 1., 1., 1., 1., 1., 1., 1., 1., 1., 1., 1., 1., 1., 1., 1., 1.,\n",
            "        1., 1., 1., 1., 0., 0., 0., 0., 0., 0., 0., 0., 0., 0., 0., 0., 0., 0.,\n",
            "        0., 0., 0., 0., 0., 0., 0., 0., 0., 0., 0., 0., 0., 0., 0., 0., 0., 0.,\n",
            "        0., 0., 0., 0., 0., 0., 0., 0., 0., 0., 0., 0., 0., 0., 0., 0., 0., 0.,\n",
            "        0., 0., 0., 0., 0., 0., 0., 0., 0., 0., 0.])\n",
            "\n",
            "Accuracy: 51/101 = 50.50%\n"
          ]
        }
      ]
    },
    {
      "cell_type": "code",
      "source": [
        "losses = []\n",
        "losses.append(loss.item())\n"
      ],
      "metadata": {
        "id": "njqv_YTAfzdW"
      },
      "execution_count": 7,
      "outputs": []
    },
    {
      "cell_type": "code",
      "source": [
        "import matplotlib.pyplot as plt\n",
        "\n",
        "# Plotting the training loss over epochs\n",
        "plt.figure(figsize=(10, 5))\n",
        "plt.plot(losses, label='Training Loss', color='blue')\n",
        "plt.xlabel('Epoch')\n",
        "plt.ylabel('Loss')\n",
        "plt.title('Training Loss over Epochs')\n",
        "plt.legend()\n",
        "plt.grid(True)\n",
        "plt.show()\n"
      ],
      "metadata": {
        "colab": {
          "base_uri": "https://localhost:8080/",
          "height": 487
        },
        "id": "gAUyD42Kf4SU",
        "outputId": "e7eabe17-447e-4364-d1b1-4513c48dddd4"
      },
      "execution_count": 8,
      "outputs": [
        {
          "output_type": "display_data",
          "data": {
            "text/plain": [
              "<Figure size 1000x500 with 1 Axes>"
            ],
            "image/png": "[encoded data removed]"
          },
          "metadata": {}
        }
      ]
    }
  ]
}